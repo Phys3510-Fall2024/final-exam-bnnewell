{
 "cells": [
  {
   "cell_type": "markdown",
   "id": "8d7c3dcd-5e18-4bfa-a932-da5ec1c22528",
   "metadata": {},
   "source": [
    "## Question 2 (50 points)\n",
    "\n",
    "***This question consists of pseudocode, extracting a frequency numerically, and plotting. Pull code from homework and midterms to optimize your effort.***\n",
    "\n",
    "For the following potential energy for an anharmonic oscillator, we will create a figure that shows the angular frequency, $\\omega$ versus the initial amplitude of the oscillator $Q_0$.\n",
    "\n",
    "### The potential energy (notice the minus sign on the fourth-order term)\n",
    "\n",
    "$$ \\Delta U = \\frac{1}{2} K Q^2 - \\frac{1}{4} D Q^4 + \\frac{1}{6} \\Phi Q^6 $$\n",
    "\n",
    "### Constrained parameters\n",
    "\n",
    "Take $K = 1$, $D=2.4$, $\\Phi=1$, and $M = 1$.\n",
    "\n",
    "### Plotting constraints\n",
    "\n",
    "Plot a range of initial displacements spanning $Q_0 = \\pm 1.7$ (see the representative plot below)\n",
    "\n",
    "### Extracting the angular frequency\n",
    "\n",
    "Recall that in the second midterm and subsequent weeks we developed a strategy for a variant of this problem which used the following steps:\n",
    "\n",
    "1. Solve the differential equation for $Q(t)$ for initial value $Q_0$ (take the initial velocity to be zero);\n",
    "2. Use `ipywidgets` to explore this solution in a figure and extract approximate values of the period $T$ as a function of $Q_0$. We found $T$ by getting the time from peak to peak or valley to valley;\n",
    "3. Interpolate the approximate values of $T$;\n",
    "4. Use in interpolated values of $T$ as a guess for a minima finding algorithm;\n",
    "5. Convert the extracted values of $T$ to angular frequency by $\\omega=\\frac{2\\pi}{T}$.\n",
    "6. To deal with the stationary solutions (e.g. $Q_0 = 0$), we used analytic results for the angular frequency by taking using the formula $\\omega = \\sqrt{\\frac{1}{M}\\frac{d^2\\Delta U}{d Q^2}}$.\n",
    "\n",
    "***This means you should be able to copy and paste most of the code from the midterm and subsequent weeks to optimize your effort***\n",
    "\n",
    "### Steps to construct the plot\n",
    "\n",
    "1. Write pseudocode to set up your strategy (**10 points**);\n",
    "2. Expand your pseudocode to include INPUT, OUTPUT, and TESTS that you could use to program each custom function (**10 points**);\n",
    "3. Write those functions and test them (**10 points**);\n",
    "4. Combine your custom functions for streamlined code and the plot of $\\omega$ versus $Q_0$ (**10 points**);\n",
    "5. Describe the plot in your own words (**10 points**)."
   ]
  },
  {
   "cell_type": "markdown",
   "id": "2b34c8d2-64d2-4981-82a9-a0cf4ce9198b",
   "metadata": {},
   "source": [
    "### Plot of the potential energy"
   ]
  },
  {
   "cell_type": "code",
   "execution_count": 3,
   "id": "a50f8e1e-81f4-4e36-8300-8a11f9d5bc95",
   "metadata": {},
   "outputs": [
    {
     "data": {
      "image/png": "[encoded data removed]",
      "text/plain": [
       "<Figure size 500x400 with 1 Axes>"
      ]
     },
     "metadata": {},
     "output_type": "display_data"
    }
   ],
   "source": [
    "import numpy as np\n",
    "import matplotlib.pyplot as plt\n",
    "\n",
    "# define potential function\n",
    "def potential_energy(Q, K=1.0, D=2.4, Phi=1.0):\n",
    "    return (1/2) * K * Q**2 - (1/4) * D * Q**4 + (1/6) * Phi * Q**6\n",
    "\n",
    "# define mesh for plotting\n",
    "Q_mesh = np.linspace(-2,2,100)\n",
    "U_mesh = potential_energy(Q_mesh)\n",
    "\n",
    "# construct figure\n",
    "plt.figure(figsize=(5, 4))\n",
    "plt.plot(Q_mesh, U_mesh, color=\"gray\")\n",
    "plt.xlabel(\"$Q$\")\n",
    "plt.ylabel(\"$\\Delta U$\")\n",
    "plt.xlim(-2,2)\n",
    "plt.ylim(-0.1,0.25)\n",
    "plt.show()"
   ]
  },
  {
   "cell_type": "code",
   "execution_count": null,
   "id": "e077d5de-9e03-4954-b8fe-a2fe033ac8a9",
   "metadata": {},
   "outputs": [],
   "source": [
    "# pseudocode for python\n",
    "# import needed packages\n",
    "# define constants\n",
    "# derive system of equations (analytic or sympy, or both for comparison)\n",
    "# define first-order system of equations as a custom function\n",
    "# initialize positions and velocities\n",
    "# solve with differential eqaution solver\n",
    "# extract solution\n",
    "# plot trajectories\n",
    "# embed code in ipywidgets environment to explore physics and code"
   ]
  },
  {
   "cell_type": "code",
   "execution_count": null,
   "id": "2d8870be-225d-4898-bd54-98f61d4076f3",
   "metadata": {},
   "outputs": [],
   "source": [
    "# pseudocode for python\n",
    "\n",
    "# import needed packages\n",
    "    #scypi,numpty, matlab: exc\n",
    "\n",
    "# define constants\n",
    "    #(k=1,d=2.4,fee=1,m=1)\n",
    "#secand derivitive\n",
    "\n",
    "# derive system of equations (analytic or sympy, or both for comparison)\n",
    "\n",
    "#find miniums \n",
    "\n",
    "# define first-order system of equations as a custom function\n",
    "    #input:  positions\\volocitys \n",
    "    #output: time derivitves\n",
    "\n",
    "# initialize positions and velocities\n",
    "\n",
    "# solve with differential eqaution solver\n",
    "    #scypie solver\n",
    "\n",
    "# extract solution\n",
    "\n",
    "\n",
    "# plot trajectories\n",
    "\n",
    "\n",
    "# embed code in ipywidgets environment to explore physics and code"
   ]
  },
  {
   "cell_type": "code",
   "execution_count": 1,
   "id": "f133ade6-a50b-4fe8-9373-cf57a0413a70",
   "metadata": {},
   "outputs": [
    {
     "data": {
      "application/vnd.jupyter.widget-view+json": {
       "model_id": "7e7d242c30ba4a208fbe97e0160ba4b5",
       "version_major": 2,
       "version_minor": 0
      },
      "text/plain": [
       "interactive(children=(FloatSlider(value=1.0, description='$m$', max=10.0, min=0.1), FloatSlider(value=1.0, des…"
      ]
     },
     "metadata": {},
     "output_type": "display_data"
    },
    {
     "data": {
      "text/plain": [
       "<function __main__.plot_rk2_new_oscillator(m=1, Q0=1, v0=0, t_end=10, dt=0.1, K=1, D=1, Phi=1)>"
      ]
     },
     "execution_count": 1,
     "metadata": {},
     "output_type": "execute_result"
    }
   ],
   "source": [
    "import numpy as np\n",
    "import matplotlib.pyplot as plt\n",
    "from ipywidgets import interact, FloatSlider\n",
    "\n",
    "def rk2_new_oscillator(m, Q0, v0, t_end, dt, K=1, D=1, Phi=1):\n",
    "    # Potential constants\n",
    "    # K, D, Phi are now arguments of the function\n",
    "    \n",
    "    t_vals = np.arange(0, t_end, dt)\n",
    "    Q_vals = np.zeros(len(t_vals))\n",
    "    v_vals = np.zeros(len(t_vals))\n",
    "    Q_vals[0] = Q0\n",
    "    v_vals[0] = v0\n",
    "    \n",
    "    for i in range(1, len(t_vals)):\n",
    "        # First slopes (k1)\n",
    "        k1_Q = v_vals[i-1]\n",
    "        \n",
    "        # Force derived from U(Q)\n",
    "        k1_v = (-K * Q_vals[i-1] + D * Q_vals[i-1]**3 - Phi * Q_vals[i-1]**5) / m\n",
    "        \n",
    "        # Intermediate estimates\n",
    "        Q_mid = Q_vals[i-1] + k1_Q * dt / 2\n",
    "        v_mid = v_vals[i-1] + k1_v * dt / 2\n",
    "        \n",
    "        # Second slopes (k2)\n",
    "        k2_Q = v_mid\n",
    "        \n",
    "        # Force derived from U(Q)\n",
    "        k2_v = (-K * Q_mid + D * Q_mid**3 - Phi * Q_mid**5) / m\n",
    "        \n",
    "        # Update the values\n",
    "        Q_vals[i] = Q_vals[i-1] + k2_Q * dt\n",
    "        v_vals[i] = v_vals[i-1] + k2_v * dt\n",
    "    \n",
    "    return t_vals, Q_vals, v_vals\n",
    "\n",
    "def plot_rk2_new_oscillator(m=1, Q0=1, v0=0, t_end=10, dt=0.1, K=1, D=1, Phi=1):\n",
    "    t_vals, rk2_Q_vals, rk2_v_vals = rk2_new_oscillator(m, Q0, v0, t_end, dt, K, D, Phi)\n",
    "    \n",
    "    plt.plot(t_vals, rk2_Q_vals, label=\"RK2 Method - Position\")\n",
    "    plt.plot(t_vals, rk2_v_vals, label=\"RK2 Method - Velocity\", linestyle=\"dashed\")\n",
    "    \n",
    "    plt.xlabel('Time')\n",
    "    plt.ylabel('Q(t), v(t)')\n",
    "    plt.legend()\n",
    "    plt.title(f\"New Oscillator Simulation (dt={dt})\")\n",
    "    plt.show()\n",
    "\n",
    "interact(plot_rk2_new_oscillator,\n",
    "         m=FloatSlider(value=1.0, min=0.1, max=10.0, step=0.1, description='$m$'),  \n",
    "         Q0=FloatSlider(value=1.0, min=-10.0, max=10.0, step=0.1, description='$Q(0)$'), \n",
    "         v0=FloatSlider(value=0.0, min=-10.0, max=10.0, step=0.1, description='$\\\\dot{Q}(0)$'), \n",
    "         t_end=FloatSlider(value=2.0, min=1.0, max=20.0, step=0.1, description='$t_{end}$'), \n",
    "         dt=FloatSlider(value=0.1, min=0.01, max=1.0, step=0.01, description='$dt$'),\n",
    "         K=FloatSlider(value=1.0, min=0.1, max=10.0, step=0.1, description='$K$'),\n",
    "         D=FloatSlider(value=1.0, min=0.1, max=10.0, step=0.1, description='$D$'),\n",
    "         Phi=FloatSlider(value=1.0, min=0.1, max=10.0, step=0.1, description='$\\\\Phi$')\n",
    "        )\n"
   ]
  },
  {
   "cell_type": "code",
   "execution_count": 5,
   "id": "8d9804bc-b828-43d8-91fd-2e80d4e1fab9",
   "metadata": {},
   "outputs": [
    {
     "data": {
      "image/png": "[encoded data removed]",
      "text/plain": [
       "<Figure size 500x400 with 1 Axes>"
      ]
     },
     "metadata": {},
     "output_type": "display_data"
    },
    {
     "name": "stdout",
     "output_type": "stream",
     "text": [
      "Minimum found near x0: [1.3650366]\n",
      "Minimum found near x1: [-1.36503662]\n",
      "Minimum found near x1: [0.]\n"
     ]
    }
   ],
   "source": [
    "import numpy as np\n",
    "from scipy.optimize import minimize\n",
    "import matplotlib.pyplot as plt\n",
    "\n",
    "# Define the potential energy function and its derivative\n",
    "def U(Q, K=1.0, D=2.4, Phi=1.0):\n",
    "    return (1/2) * K * Q**2 - (1/4) * D * Q**4 + (1/6) * Phi * Q**6\n",
    "\n",
    "\n",
    "# Plot the potential energy function\n",
    "Q_vals = np.linspace(-3, 3, 400)\n",
    "U_vals = U(Q_vals)\n",
    "\n",
    "plt.figure(figsize=(5, 4))\n",
    "plt.plot(Q_vals, U_vals)\n",
    "plt.xlabel('Q')\n",
    "plt.ylabel('U(Q)')\n",
    "plt.xlim(-3,3)\n",
    "plt.ylim(-1,4)\n",
    "plt.show()\n",
    "\n",
    "# Minimization (finding the local minimum)\n",
    "# Minimization (finding the local minimum)\n",
    "x0=1.2\n",
    "x1=-1.2\n",
    "x2=0\n",
    "min_result = minimize(U, x0)\n",
    "min_result1 = minimize(U, x1)\n",
    "min_result2 = minimize(U, x2)\n",
    "\n",
    "print(\"Minimum found near x0:\", min_result.x)\n",
    "print(\"Minimum found near x1:\", min_result1.x)\n",
    "print(\"Minimum found near x1:\", min_result2.x)"
   ]
  },
  {
   "cell_type": "markdown",
   "id": "e3e19ad5-614c-4385-8ff9-6b49cfa3440a",
   "metadata": {},
   "source": [
    "the plot of the general equasion shows two miniums. as well as one in the center at 0. there are two sadel points. for the periodic look as it moves on it seems to ocilate more within the smalller wells becore moving to some of the larger ones. before moving threw the wells allthe way to the other side of the ocilation. this is likly dew to it gaining energy within one well before gaining enough energy to make it all the way threw. than becoming un calculateable. "
   ]
  }
 ],
 "metadata": {
  "kernelspec": {
   "display_name": "Python 3 (ipykernel)",
   "language": "python",
   "name": "python3"
  },
  "language_info": {
   "codemirror_mode": {
    "name": "ipython",
    "version": 3
   },
   "file_extension": ".py",
   "mimetype": "text/x-python",
   "name": "python",
   "nbconvert_exporter": "python",
   "pygments_lexer": "ipython3",
   "version": "3.9.19"
  }
 },
 "nbformat": 4,
 "nbformat_minor": 5
}
